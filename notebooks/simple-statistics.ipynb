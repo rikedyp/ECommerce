{
 "cells": [
  {
   "cell_type": "markdown",
   "id": "c72ee507-531f-4fbc-bda3-22d1b734b239",
   "metadata": {},
   "source": [
    "# Simple Statistics\n",
    "Summarising the data across various dimensions"
   ]
  },
  {
   "cell_type": "code",
   "execution_count": 2,
   "id": "2c864975-7720-4391-a019-026baeb7c548",
   "metadata": {},
   "outputs": [
    {
     "data": {
      "text/html": [
       "<pre class=\"language-APL\">Imported: #.LINK ← C:\\g\\ECommerce\\link\n",
       "</pre>"
      ]
     },
     "execution_count": 2,
     "metadata": {},
     "output_type": "execute_result"
    },
    {
     "data": {
      "text/html": [
       "<pre class=\"language-APL\">Linked: #.EC ←→ C:\\g\\ECommerce\\APLSource\n",
       "</pre>"
      ]
     },
     "execution_count": 2,
     "metadata": {},
     "output_type": "execute_result"
    }
   ],
   "source": [
    "]import LINK ../link\n",
    "LINK.Setup '#.EC' '../APLSource'\n",
    "⎕CS EC"
   ]
  },
  {
   "cell_type": "markdown",
   "id": "99309544-7dda-45e8-ae09-b683eabc9080",
   "metadata": {},
   "source": [
    "By now we have already:\n",
    "- imported data from file\n",
    "- cleaned the data by removing missing items\n",
    "\n",
    "Now we are going to analyse the data. To start with, we will select some columns and join the data together to form a cohesive table containing only the data relevant to our query."
   ]
  },
  {
   "cell_type": "markdown",
   "id": "99b28ab4-3788-4510-bafd-3b92c551b10f",
   "metadata": {},
   "source": [
    "## Total orders\n",
    "Use **tally** `≢⍵` to count the total orders."
   ]
  },
  {
   "cell_type": "code",
   "execution_count": 3,
   "id": "a7a25594-0309-41fc-ba88-33ee2818e080",
   "metadata": {},
   "outputs": [],
   "source": [
    "orders ← ImportDataTable '../data/olist_orders_dataset.csv'"
   ]
  },
  {
   "cell_type": "code",
   "execution_count": 9,
   "id": "9cfe4761-cbe7-4295-b2b9-1f4cf37a832f",
   "metadata": {},
   "outputs": [
    {
     "data": {
      "text/html": [
       "<pre class=\"language-APL\">99441\n",
       "</pre>"
      ]
     },
     "execution_count": 9,
     "metadata": {},
     "output_type": "execute_result"
    }
   ],
   "source": [
    "≢orders.data"
   ]
  },
  {
   "cell_type": "markdown",
   "id": "5f2b54e7-336f-4f6a-ae64-cb2a0b5a67ab",
   "metadata": {
    "tags": []
   },
   "source": [
    "## Orders by product category\n",
    "Now we need to merge the orders and their product categories. First let us list the columns which we will use to merge the data.\n",
    "\n",
    "| Data set | Columns |\n",
    "|   ---    |   ---  |\n",
    "| items    | order_id, product_id |\n",
    "| products | product_id, product_category |\n"
   ]
  },
  {
   "cell_type": "code",
   "execution_count": 32,
   "id": "fbd5ce3d-4075-4d1f-8e21-b9f2c9a6c2de",
   "metadata": {},
   "outputs": [],
   "source": [
    "items ← (1 2 1 1 1 2 2) ImportDataTable '../data/olist_order_items_dataset.csv'"
   ]
  },
  {
   "cell_type": "code",
   "execution_count": 37,
   "id": "33638f36-0c48-4004-8c11-6591f887120f",
   "metadata": {},
   "outputs": [],
   "source": [
    "products ← (1 1 3 3 3 3 3 3 3) ImportDataTable '../data/olist_products_dataset.csv'"
   ]
  },
  {
   "cell_type": "markdown",
   "id": "8969a74f-ad1a-4e5b-8d4f-bf21a5c1025f",
   "metadata": {},
   "source": [
    "Now we will merge data from `items` and `products` to count orders grouped by product category.\n",
    "\n",
    "There may be multiple items in one order, so we will join `order_id` from `items` and `product_category` from `products` according to `product_id`."
   ]
  },
  {
   "cell_type": "code",
   "execution_count": 16,
   "id": "84fa9a89-0156-49a4-9eaf-6d92ab1ef02a",
   "metadata": {},
   "outputs": [
    {
     "data": {
      "text/html": [
       "<pre class=\"language-APL\">1\n",
       "</pre>"
      ]
     },
     "execution_count": 16,
     "metadata": {},
     "output_type": "execute_result"
    }
   ],
   "source": [
    "oid←items.Column'order_id'\n",
    "pid←products.Column'product_id'\n",
    "iid←items.Column'product_id'\n",
    "idx←pid⍳iid\n",
    "∧/idx≤≢pid   ⍝ Are all product IDs found?"
   ]
  },
  {
   "cell_type": "markdown",
   "id": "93e1fa8c-ee84-4b8c-bc80-625588751a86",
   "metadata": {},
   "source": [
    "The **index-of** function returns `1+≢⍺` for elements of `⍵` not found in `⍺`, "
   ]
  },
  {
   "cell_type": "code",
   "execution_count": 49,
   "id": "65382e5a-0b38-4178-b100-b53a587e7bd0",
   "metadata": {},
   "outputs": [],
   "source": [
    "cat ← products.Column'product_category_name'\n",
    "pcn ← (cat,⊂'Unknown')[idx]"
   ]
  },
  {
   "cell_type": "markdown",
   "id": "01d2f0a2-89e7-473a-a65f-7b22bb46a239",
   "metadata": {},
   "source": [
    "Now we will count the number of items in each order, and check that this matches the maximum `order_item_id` for each order in the `items` data set."
   ]
  },
  {
   "cell_type": "code",
   "execution_count": 50,
   "id": "859dc1af-0b88-4b4c-8a99-cd8a4e887fbd",
   "metadata": {},
   "outputs": [
    {
     "data": {
      "text/html": [
       "<pre class=\"language-APL\">98666 98666\n",
       "</pre>"
      ]
     },
     "execution_count": 50,
     "metadata": {},
     "output_type": "execute_result"
    },
    {
     "data": {
      "text/html": [
       "<pre class=\"language-APL\">1\n",
       "</pre>"
      ]
     },
     "execution_count": 50,
     "metadata": {},
     "output_type": "execute_result"
    }
   ],
   "source": [
    "order_items_count ← oid {≢⍵}⌸ pcn\n",
    "max_items ← oid {⌈/⍵}⌸ items.Column'order_item_id'\n",
    "≢¨order_items_count   max_items\n",
    "  order_items_count ≡ max_items"
   ]
  },
  {
   "cell_type": "markdown",
   "id": "d73bfca7-3044-40e8-b580-77336fffe78a",
   "metadata": {},
   "source": [
    "Finally, let's count the total number of orders which include a particular category. We will then save this as a file with the list in order of descending order count."
   ]
  },
  {
   "cell_type": "code",
   "execution_count": 52,
   "id": "f2fd91be-49a5-41ab-a3bb-852c9d2fce56",
   "metadata": {},
   "outputs": [
    {
     "data": {
      "text/html": [
       "<pre class=\"language-APL\">┌──────────────────┬────┐\n",
       "│cool_stuff        │3632│\n",
       "├──────────────────┼────┤\n",
       "│pet_shop          │1710│\n",
       "├──────────────────┼────┤\n",
       "│moveis_decoracao  │6449│\n",
       "├──────────────────┼────┤\n",
       "│perfumaria        │3162│\n",
       "├──────────────────┼────┤\n",
       "│ferramentas_jardim│3518│\n",
       "└──────────────────┴────┘\n",
       "</pre>"
      ]
     },
     "execution_count": 52,
     "metadata": {},
     "output_type": "execute_result"
    }
   ],
   "source": [
    "5↑orders_by_category ← pcn {⍺,≢∪⍵}⌸ oid"
   ]
  },
  {
   "cell_type": "markdown",
   "id": "030e1cae-fea8-4572-945f-f26e8a225abd",
   "metadata": {},
   "source": [
    "We expect that the sum of orders in this table may be greater than the total number of orders placed, since the same order may be counted in several categories."
   ]
  },
  {
   "cell_type": "code",
   "execution_count": 53,
   "id": "570c08b6-7a1a-4fac-bee8-4d4b6f6274cf",
   "metadata": {},
   "outputs": [
    {
     "data": {
      "text/html": [
       "<pre class=\"language-APL\">99470\n",
       "</pre>"
      ]
     },
     "execution_count": 53,
     "metadata": {},
     "output_type": "execute_result"
    },
    {
     "data": {
      "text/html": [
       "<pre class=\"language-APL\">99441\n",
       "</pre>"
      ]
     },
     "execution_count": 53,
     "metadata": {},
     "output_type": "execute_result"
    }
   ],
   "source": [
    "+/⊢/orders_by_category\n",
    "≢∪orders.Column'order_id'"
   ]
  },
  {
   "cell_type": "markdown",
   "id": "521a8b66-6f4e-42bb-b553-32a0e8885f2c",
   "metadata": {},
   "source": [
    "Let's sort our data before writing it to file. We will also attach the English product category translations."
   ]
  },
  {
   "cell_type": "code",
   "execution_count": 65,
   "id": "6fbc46e8-b8e4-4d6c-a297-9ea3eba796e3",
   "metadata": {},
   "outputs": [],
   "source": [
    "sorted ← orders_by_category[⍒⊢/orders_by_category;]\n",
    "(port eng)←↓⍉⎕CSV'../data/product_category_name_translation.csv'\n",
    "trans←(eng, ⊂'Translation NOT FOUND')[port⍳⊣/sorted]\n",
    "header ← 'English Product Category Name' 'Portuguese Product Category Name' 'Count of Orders'\n",
    "(header⍪trans,sorted) (⎕CSV⎕OPT'IfExists' 'Replace') 'orders_by_category.csv'"
   ]
  },
  {
   "cell_type": "markdown",
   "id": "4cb3a08f-43fe-48a6-8239-96f57ab877d2",
   "metadata": {},
   "source": [
    "## Payments over time\n",
    "Now let's add time to our analysis."
   ]
  }
 ],
 "metadata": {
  "kernelspec": {
   "display_name": "Dyalog APL",
   "language": "apl",
   "name": "dyalog-kernel"
  },
  "language_info": {
   "file_extension": ".apl",
   "mimetype": "text/apl",
   "name": "APL"
  }
 },
 "nbformat": 4,
 "nbformat_minor": 5
}
