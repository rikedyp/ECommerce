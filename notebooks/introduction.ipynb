{
 "cells": [
  {
   "cell_type": "markdown",
   "id": "feeff774-5841-420f-bc38-20fed1009289",
   "metadata": {},
   "source": [
    "# E Commerce Data Analysis Example\n",
    "Using Dyalog APL\n",
    "\n",
    "This collection of order data and customer reviews from [Brazillian E-commerce website Olist](https://www.kaggle.com/datasets/olistbr/brazilian-ecommerce) made available under [CC BY-NC-SA 4.0](https://creativecommons.org/licenses/by-nc-sa/4.0/)."
   ]
  },
  {
   "cell_type": "markdown",
   "id": "5ad5eee2-8ada-4580-b0b5-9d2f9f8b1eb0",
   "metadata": {},
   "source": [
    "These notebooks will constitute the source, documentation and tests for these examples. The [Link](https://dyalog.github.io/link) mechanism will be used to allow exchange of code between notebooks, and to demonstrate the use of notebooks to produce a single application which can be built as a Dyalog APL workspace."
   ]
  },
  {
   "cell_type": "markdown",
   "id": "68160a36-5b75-47a0-ae66-5071496a0f4e",
   "metadata": {},
   "source": [
    "User commands are used throughout, because notebooks act as surrogate for the APL session, but user commands cannot be used in APL code."
   ]
  },
  {
   "cell_type": "markdown",
   "id": "760ee63d-9294-4236-bfd8-8ed64499432f",
   "metadata": {},
   "source": [
    "## Linking notebooks with one shared source\n",
    "The following function is imported at the beginning of each notebook and is used to link each notebook. It checks whether the source is already linked, so that import cells can be re-run without error. Note that linking to `#` is not possible using this function."
   ]
  },
  {
   "cell_type": "code",
   "execution_count": 14,
   "id": "165a72e5-7a4a-404e-928e-8b638dcec1c1",
   "metadata": {},
   "outputs": [
    {
     "data": {
      "text/html": [
       "<pre class=\"language-APL\">Linked: #.LINK ←→ C:\\g\\ECommerce\\link\n",
       "</pre>"
      ]
     },
     "execution_count": 14,
     "metadata": {},
     "output_type": "execute_result"
    }
   ],
   "source": [
    "]create LINK ../link   ⍝ Code can be saved to file\n",
    "⎕CS LINK               ⍝ Change to working from LINK namespace"
   ]
  },
  {
   "cell_type": "code",
   "execution_count": 15,
   "id": "9b70b077-eb62-4dda-9907-9bd82831920d",
   "metadata": {},
   "outputs": [],
   "source": [
    "∇ r←Setup (ns path)\n",
    "  ⍝   ns : char vec :: name of namespace\n",
    "  ⍝ path : char vec :: path to folder\n",
    "  :If 0=⎕NC ns\n",
    "    r←⎕SE.Link.Create ns path\n",
    "  :Else\n",
    "    r←⎕SE.Link.Status''\n",
    "  :EndIf\n",
    "∇"
   ]
  },
  {
   "cell_type": "code",
   "execution_count": 17,
   "id": "e8f721c1-d11c-4916-8cbf-0d291fbc65e0",
   "metadata": {},
   "outputs": [
    {
     "data": {
      "text/html": [
       "<pre class=\"language-APL\">Added: #.LINK.Setup\n",
       "</pre>"
      ]
     },
     "execution_count": 17,
     "metadata": {},
     "output_type": "execute_result"
    }
   ],
   "source": [
    "]add Setup   ⍝ Save function to file Setup.aplf"
   ]
  }
 ],
 "metadata": {
  "kernelspec": {
   "display_name": "Dyalog APL",
   "language": "apl",
   "name": "dyalog-kernel"
  },
  "language_info": {
   "file_extension": ".apl",
   "mimetype": "text/apl",
   "name": "APL"
  }
 },
 "nbformat": 4,
 "nbformat_minor": 5
}
