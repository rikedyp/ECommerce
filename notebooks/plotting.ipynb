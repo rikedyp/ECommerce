{
 "cells": [
  {
   "cell_type": "markdown",
   "id": "103bd7ec-4537-4cd8-9e86-4494c18a83a0",
   "metadata": {},
   "source": [
    "# Orders and payments over time\n",
    "In this notebook, we will plot orders and payments over time."
   ]
  },
  {
   "cell_type": "code",
   "execution_count": 6,
   "id": "0abe3c68-dba0-4500-8b97-92422a9c37ef",
   "metadata": {},
   "outputs": [
    {
     "data": {
      "text/html": [
       "<pre class=\"language-APL\">ERRORS ENCOUNTERED: ⎕SE.Link.Import: Names already exist: use -overwrite flag to force overwriting the following names:\n",
       "#.LINK.Setup\n",
       "</pre>"
      ]
     },
     "execution_count": 6,
     "metadata": {},
     "output_type": "execute_result"
    },
    {
     "data": {
      "text/html": [
       "<pre class=\"language-APL\">┌─────────┬──┬────────────────────────┬─────┐\n",
       "│Namespace│  │Directory               │Files│\n",
       "├─────────┼──┼────────────────────────┼─────┤\n",
       "│#.EC     │←→│C:/g/ECommerce/APLSource│15   │\n",
       "└─────────┴──┴────────────────────────┴─────┘\n",
       "</pre>"
      ]
     },
     "execution_count": 6,
     "metadata": {},
     "output_type": "execute_result"
    }
   ],
   "source": [
    "]import LINK ../link\n",
    "LINK.Setup '#.EC' '../APLSource'\n",
    "⎕CS EC"
   ]
  },
  {
   "cell_type": "code",
   "execution_count": 8,
   "id": "148b8639-119f-48c9-8b38-b698e18f8743",
   "metadata": {},
   "outputs": [],
   "source": [
    "∇ svg←{colors}(xlabel Plot ylabel) data;InitCauseway;Causeway;System;sp;fc;fl;fs;fmt;names;xa;xw;ya;yw\n",
    "⍝ eg: 'red' 'blue' ('xlabel'Plot'ylabel') ('series1' (y1 x1)) ('series2' (y2 x2))\n",
    "\n",
    "⍝ Init\n",
    ":If 0=⎕NC'Causeway'\n",
    "'InitCauseway'⎕CY'sharpplot'\n",
    "InitCauseway ⍬\n",
    ":EndIf\n",
    "sp←⎕NEW Causeway.SharpPlot\n",
    "\n",
    "⍝ Format\n",
    "sp.XAxisStyle←Causeway.XAxisStyles.GridLines\n",
    "sp.YAxisStyle←Causeway.YAxisStyles.(GridLines+AtEndCaption)\n",
    "fc fl fs ← System.Drawing.Color.Black 9.5 7.5 ⍝ font color, large size, small size\n",
    "sp.SetXCaptionFont fl fc ⋄ sp.SetXLabelFont fs fc\n",
    "sp.SetYCaptionFont fl fc ⋄ sp.SetYLabelFont fs fc\n",
    "sp.SetKeyFont fl fc\n",
    "fmt←'0.00' ⋄ sp.XLabelFormat←fmt ⋄ sp.YLabelFormat←fmt\n",
    "sp.SetPenWidths 2\n",
    "\n",
    "⍝ Curves\n",
    ":If 0=⎕NC'colors'\n",
    "    colors ← ⊂'black'\n",
    ":EndIf\n",
    ":If ¯4<≡data\n",
    "    names data←data\n",
    "    data←,⊂data\n",
    ":Else\n",
    "    names data←↓⍉↑data ⍝ names and data\n",
    ":EndIf\n",
    "colors ← (≢data)⍴⊆colors ⍝ \"scalar extension\"\n",
    "\n",
    "⍝ Labels\n",
    "sp.XCaption←,xlabel\n",
    "sp.YCaption←,ylabel,⎕UCS 10 ⍝ add newline to leave some space\n",
    "sp.SetKeyText⊂names\n",
    "\n",
    "⍝ Limits\n",
    "ya xa←⌊⌿⌊/¨↑data\n",
    "yw xw←⌈⌿⌈/¨↑data\n",
    "sp.SetYRange ya yw\n",
    "sp.SetXRange xa xw\n",
    "\n",
    "⍝ Plot and display\n",
    ":For i :In ⍳≢data\n",
    "    sp.SetColors i⌷colors \n",
    "    sp.DrawLineGraph i⊃data\n",
    ":EndFor\n",
    "svg←sp.RenderSvg Causeway.SvgMode.FixedAspect\n",
    "∇"
   ]
  },
  {
   "cell_type": "code",
   "execution_count": 9,
   "id": "c0ef8240-bef2-4257-af53-988734d9559f",
   "metadata": {},
   "outputs": [
    {
     "data": {
      "text/html": [
       "<pre class=\"language-APL\">Added: #.EC.Plot\n",
       "</pre>"
      ]
     },
     "execution_count": 9,
     "metadata": {},
     "output_type": "execute_result"
    }
   ],
   "source": [
    "]add Plot"
   ]
  },
  {
   "cell_type": "markdown",
   "id": "4e3a1388-a3eb-4e69-bcb8-daea757e4790",
   "metadata": {},
   "source": [
    "## Dates and times\n",
    "Next we need to convert dates and times from timestamp strings (character vectors) into scalar numbers which can be plotted on our $x$ axis."
   ]
  },
  {
   "cell_type": "code",
   "execution_count": null,
   "id": "532fc734-2c2b-45d2-a4be-93c96f5714ef",
   "metadata": {},
   "outputs": [],
   "source": [
    "orders←"
   ]
  }
 ],
 "metadata": {
  "kernelspec": {
   "display_name": "Dyalog APL",
   "language": "apl",
   "name": "dyalog-kernel"
  },
  "language_info": {
   "file_extension": ".apl",
   "mimetype": "text/apl",
   "name": "APL"
  }
 },
 "nbformat": 4,
 "nbformat_minor": 5
}
