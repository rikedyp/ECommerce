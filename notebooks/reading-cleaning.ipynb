{
 "cells": [
  {
   "cell_type": "markdown",
   "id": "c827d8b0-3bb6-48db-8d7f-667fe05a83b6",
   "metadata": {},
   "source": [
    "# Reading and cleaning the data"
   ]
  },
  {
   "cell_type": "markdown",
   "id": "699dca6c-5a1b-4041-9ddc-fb72e0a0d699",
   "metadata": {},
   "source": [
    "In this notebook, we will read the Comma Separated Values (CSV) files. First, as nested matrices and secondly as the \"inverted table\" (columnar) database format."
   ]
  },
  {
   "cell_type": "code",
   "execution_count": 3,
   "id": "0ba2f4ac-5406-46d8-bd70-e96f8d7f60e7",
   "metadata": {},
   "outputs": [
    {
     "data": {
      "text/html": [
       "<pre class=\"language-APL\">Imported: #.LINK ← C:\\g\\ECommerce\\link\n",
       "</pre>"
      ]
     },
     "execution_count": 3,
     "metadata": {},
     "output_type": "execute_result"
    },
    {
     "data": {
      "text/html": [
       "<pre class=\"language-APL\">Linked: #.EC ←→ C:\\g\\ECommerce\\APLSource\n",
       "</pre>"
      ]
     },
     "execution_count": 3,
     "metadata": {},
     "output_type": "execute_result"
    }
   ],
   "source": [
    "]Import LINK ../link\n",
    "LINK.Setup '#.EC' '../APLSource'\n",
    "⎕CS EC"
   ]
  },
  {
   "cell_type": "markdown",
   "id": "e7a774cb-9ede-4509-896e-0b7a488afd88",
   "metadata": {},
   "source": [
    "The Data Table object type is a namespace with members:\n",
    "- `header` vector of column names\n",
    "- `data` vector of column data\n",
    "    - character data are matrices\n",
    "    - numeric data are vectors\n",
    "- `Column` function returns one or more columns of data by name"
   ]
  },
  {
   "cell_type": "code",
   "execution_count": 35,
   "id": "c6d36b68-bb60-4b97-a876-29c0d7d17f62",
   "metadata": {},
   "outputs": [],
   "source": [
    "∇ ImportDataTable←{\n",
    "  r←⎕NS ⍬   ⍝ Empty namespace\n",
    "  _←r.⎕DF'[Data Table]'   ⍝ Data type label\n",
    "  ⍺←1   ⍝ Read all data as characters by default\n",
    "  r.(data header)←⎕CSV ⍵ ⍬ ⍺ 1 \n",
    "  r.Column←{data[;header⍳⍥⎕C⊆⍵]}   ⍝ Look up column names case insensitively\n",
    "  r\n",
    "}\n",
    "∇"
   ]
  },
  {
   "cell_type": "code",
   "execution_count": 4,
   "id": "a00fcadb-e8fb-48cf-b0f6-c7233e1e1221",
   "metadata": {},
   "outputs": [
    {
     "data": {
      "text/html": [
       "<pre class=\"language-APL\">Added: #.EC.ImportDataTable\n",
       "</pre>"
      ]
     },
     "execution_count": 4,
     "metadata": {},
     "output_type": "execute_result"
    }
   ],
   "source": [
    "]LINK.Add ImportDataTable"
   ]
  },
  {
   "cell_type": "code",
   "execution_count": 5,
   "id": "4909f7fd-73d7-4f46-b591-89d039ed92cb",
   "metadata": {},
   "outputs": [],
   "source": [
    "customers←ImportDataTable'../data/olist_customers_dataset.csv'"
   ]
  },
  {
   "cell_type": "markdown",
   "id": "6f1ae3f1-7edd-4dbf-bd22-8c182867f28c",
   "metadata": {},
   "source": [
    "## ReadCSV\n",
    "Some points of note:\n",
    "\n",
    "- Because dfns finish execution on the first expression which is not an assignment (`name←expression`), we assign the result of `⎕DF` to underscore (`_`) as a \"sink\" or \"throwaway\" variable.\n",
    "- Assignment to `⍺` within a dfn creates an ambivalent function. When `ReadCSV` is called monadically, the left argument `⍺` is `1`.\n",
    "- The meaning of numeric column types specified by `⍺` is found in [the documentation for `⎕CSV`](http://help.dyalog.com/18.2/#Language/System%20Functions/csv.htm)."
   ]
  },
  {
   "cell_type": "markdown",
   "id": "240e47d1-73d4-4c37-b104-882d5f0f93a7",
   "metadata": {},
   "source": [
    "### Text as arguments\n",
    "We obtain data by column name, rather than number, for better readability. To do so, we look up column names in the header vector:"
   ]
  },
  {
   "cell_type": "code",
   "execution_count": 10,
   "id": "e63d8a3f-4aa1-4718-bef1-da7b1f625deb",
   "metadata": {},
   "outputs": [
    {
     "data": {
      "text/html": [
       "<pre class=\"language-APL\">6 6 6 6 6 6 6 6 6 6 6 6 6\n",
       "</pre>"
      ]
     },
     "execution_count": 10,
     "metadata": {},
     "output_type": "execute_result"
    }
   ],
   "source": [
    "customers.header⍳'customer_city'"
   ]
  },
  {
   "cell_type": "markdown",
   "id": "a8964d34-e0a7-4778-ba24-c93d0e1da0e5",
   "metadata": {},
   "source": [
    "The *index-of* primitive returns `1+≢⍺` where items in `⍵` are not found in `⍺`. In this case, it is looking for individual characters. We want to look up the entire string, but our lookup array `⍺` and search terms `⍵` have different structures.\n",
    "\n",
    "`customers.header` is a nested array, as indicated by surrounding lines with `]Box on` or using `]Display`. More precisely, the depth `≡⍵` is greater than 1.\n",
    "\n",
    "See `]display -?` and `]box -?` for more information about the boxed display of arrays."
   ]
  },
  {
   "cell_type": "code",
   "execution_count": 18,
   "id": "f6c5ceb5-5ee1-4ac5-8852-b1a950f2f8c2",
   "metadata": {},
   "outputs": [
    {
     "data": {
      "text/html": [
       "<pre class=\"language-APL\">┌→───────────────────────────────────────────────────────────────────────────────────────────────┐\n",
       "│ ┌→──────────┐ ┌→─────────────────┐ ┌→───────────────────────┐ ┌→────────────┐ ┌→─────────────┐ │\n",
       "│ │customer_id│ │customer_unique_id│ │customer_zip_code_prefix│ │customer_city│ │customer_state│ │\n",
       "│ └───────────┘ └──────────────────┘ └────────────────────────┘ └─────────────┘ └──────────────┘ │\n",
       "└∊───────────────────────────────────────────────────────────────────────────────────────────────┘\n",
       "</pre>"
      ]
     },
     "execution_count": 18,
     "metadata": {},
     "output_type": "execute_result"
    },
    {
     "data": {
      "text/html": [
       "<pre class=\"language-APL\">Depth:  2\n",
       "</pre>"
      ]
     },
     "execution_count": 18,
     "metadata": {},
     "output_type": "execute_result"
    }
   ],
   "source": [
    "]display customers.header\n",
    "'Depth: ',≡customers.header"
   ]
  },
  {
   "cell_type": "markdown",
   "id": "3dc06569-25d2-4651-b981-33f96649770f",
   "metadata": {},
   "source": [
    "In contrast, `'customer_city'` is a **simple** (non-nested) character vector."
   ]
  },
  {
   "cell_type": "code",
   "execution_count": 17,
   "id": "dd5134e4-b547-4a7d-8b40-5b3a0b46f943",
   "metadata": {},
   "outputs": [
    {
     "data": {
      "text/html": [
       "<pre class=\"language-APL\">┌→────────────┐\n",
       "│customer_city│\n",
       "└─────────────┘\n",
       "</pre>"
      ]
     },
     "execution_count": 17,
     "metadata": {},
     "output_type": "execute_result"
    },
    {
     "data": {
      "text/html": [
       "<pre class=\"language-APL\">Depth:  1\n",
       "</pre>"
      ]
     },
     "execution_count": 17,
     "metadata": {},
     "output_type": "execute_result"
    }
   ],
   "source": [
    "]display 'customer_city'\n",
    "'Depth: ',≡'customer_city'"
   ]
  },
  {
   "cell_type": "markdown",
   "id": "1fcd7e11-61b4-4175-a1b9-298ba06d9edc",
   "metadata": {},
   "source": [
    "## Data profile\n",
    "Let's take a generic view which can be applied to any of our data sets."
   ]
  },
  {
   "cell_type": "code",
   "execution_count": 32,
   "id": "5e01cc81-3a05-4282-bcd0-fd24e1029947",
   "metadata": {},
   "outputs": [],
   "source": [
    "∇ Report←{\n",
    "⍝ ⍵: data table namespace\n",
    "  parts←'Columns' 'Row count' 'Empty cell count' 'Row with empty cell count'\n",
    "  parts,←'Duplicate row count' 'Columns with empty cells'\n",
    "  parts,←'Total size in memory (bytes)' 'Average record size in memory (bytes)'\n",
    "  r←⊂⍵.header ⋄  r,←≢⍵.data\n",
    "  mt←(0∊⍴)¨⍵.data\n",
    "  r,←+/,mt ⋄ r,←+/∨/mt ⋄ r,←+/~≠⍵.data ⋄ r,←⊂⍵.header⌿⍨∨⌿mt\n",
    "  r,←⍬⍴⎕SIZE'⍵'\n",
    "  r,←⊃(+⌿÷1⌈≢){row←⍵ ⋄ ⎕size'row'}¨↓⍵.data\n",
    "  parts,⍪r\n",
    "}\n",
    "∇"
   ]
  },
  {
   "cell_type": "code",
   "execution_count": 33,
   "id": "5e11239b-7fa4-4ed2-848a-caa8957335df",
   "metadata": {},
   "outputs": [
    {
     "data": {
      "text/html": [
       "<pre class=\"language-APL\">Added: #.EC.Report\n",
       "</pre>"
      ]
     },
     "execution_count": 33,
     "metadata": {},
     "output_type": "execute_result"
    }
   ],
   "source": [
    "]LINK.Add Report"
   ]
  },
  {
   "cell_type": "code",
   "execution_count": 34,
   "id": "23189a13-d61e-4a01-9b2f-5fe269aaf720",
   "metadata": {},
   "outputs": [
    {
     "data": {
      "text/html": [
       "<pre class=\"language-APL\">┌─────────────────────────────────────┬──────────────────────────────────────────────────────────────────────────────────────┐\n",
       "│Columns                              │┌───────────┬──────────────────┬────────────────────────┬─────────────┬──────────────┐│\n",
       "│                                     ││customer_id│customer_unique_id│customer_zip_code_prefix│customer_city│customer_state││\n",
       "│                                     │└───────────┴──────────────────┴────────────────────────┴─────────────┴──────────────┘│\n",
       "├─────────────────────────────────────┼──────────────────────────────────────────────────────────────────────────────────────┤\n",
       "│Row count                            │99441                                                                                 │\n",
       "├─────────────────────────────────────┼──────────────────────────────────────────────────────────────────────────────────────┤\n",
       "│Empty cell count                     │0                                                                                     │\n",
       "├─────────────────────────────────────┼──────────────────────────────────────────────────────────────────────────────────────┤\n",
       "│Row with empty cell count            │0                                                                                     │\n",
       "├─────────────────────────────────────┼──────────────────────────────────────────────────────────────────────────────────────┤\n",
       "│Duplicate row count                  │0                                                                                     │\n",
       "├─────────────────────────────────────┼──────────────────────────────────────────────────────────────────────────────────────┤\n",
       "│Columns with empty cells             │                                                                                      │\n",
       "│                                     │                                                                                      │\n",
       "│                                     │                                                                                      │\n",
       "├─────────────────────────────────────┼──────────────────────────────────────────────────────────────────────────────────────┤\n",
       "│Total size in memory (bytes)         │29221648                                                                              │\n",
       "├─────────────────────────────────────┼──────────────────────────────────────────────────────────────────────────────────────┤\n",
       "│Average record size in memory (bytes)│325.7601191                                                                           │\n",
       "└─────────────────────────────────────┴──────────────────────────────────────────────────────────────────────────────────────┘\n",
       "</pre>"
      ]
     },
     "execution_count": 34,
     "metadata": {},
     "output_type": "execute_result"
    }
   ],
   "source": [
    "Report customers"
   ]
  },
  {
   "cell_type": "markdown",
   "id": "949566a7-bb86-4757-9319-83f46c6ca88f",
   "metadata": {},
   "source": [
    "## Cleaning the data\n",
    "Here we will inspect some data. We will remove rows containing empty values. \n",
    "\n",
    "We will look at the distributions of data"
   ]
  },
  {
   "cell_type": "code",
   "execution_count": 35,
   "id": "b95aa8fa-8b70-4027-bd78-e2aefa3e53f4",
   "metadata": {},
   "outputs": [
    {
     "data": {
      "text/html": [
       "<pre class=\"language-APL\">┌─────────────────────────────────────┬───────────────────────────────────────────────────────────────────────────────────────────────────────────────────────────────────────────────────────────────────────┐\n",
       "│Columns                              │┌────────┬───────────┬────────────┬────────────────────────┬─────────────────┬────────────────────────────┬─────────────────────────────┬─────────────────────────────┐│\n",
       "│                                     ││order_id│customer_id│order_status│order_purchase_timestamp│order_approved_at│order_delivered_carrier_date│order_delivered_customer_date│order_estimated_delivery_date││\n",
       "│                                     │└────────┴───────────┴────────────┴────────────────────────┴─────────────────┴────────────────────────────┴─────────────────────────────┴─────────────────────────────┘│\n",
       "├─────────────────────────────────────┼───────────────────────────────────────────────────────────────────────────────────────────────────────────────────────────────────────────────────────────────────────┤\n",
       "│Row count                            │99441                                                                                                                                                                  │\n",
       "├─────────────────────────────────────┼───────────────────────────────────────────────────────────────────────────────────────────────────────────────────────────────────────────────────────────────────────┤\n",
       "│Empty cell count                     │4908                                                                                                                                                                   │\n",
       "├─────────────────────────────────────┼───────────────────────────────────────────────────────────────────────────────────────────────────────────────────────────────────────────────────────────────────────┤\n",
       "│Row with empty cell count            │2980                                                                                                                                                                   │\n",
       "├─────────────────────────────────────┼───────────────────────────────────────────────────────────────────────────────────────────────────────────────────────────────────────────────────────────────────────┤\n",
       "│Duplicate row count                  │0                                                                                                                                                                      │\n",
       "├─────────────────────────────────────┼───────────────────────────────────────────────────────────────────────────────────────────────────────────────────────────────────────────────────────────────────────┤\n",
       "│Columns with empty cells             │┌─────────────────┬────────────────────────────┬─────────────────────────────┐                                                                                         │\n",
       "│                                     ││order_approved_at│order_delivered_carrier_date│order_delivered_customer_date│                                                                                         │\n",
       "│                                     │└─────────────────┴────────────────────────────┴─────────────────────────────┘                                                                                         │\n",
       "├─────────────────────────────────────┼───────────────────────────────────────────────────────────────────────────────────────────────────────────────────────────────────────────────────────────────────────┤\n",
       "│Total size in memory (bytes)         │51585160                                                                                                                                                               │\n",
       "├─────────────────────────────────────┼───────────────────────────────────────────────────────────────────────────────────────────────────────────────────────────────────────────────────────────────────────┤\n",
       "│Average record size in memory (bytes)│550.6502951                                                                                                                                                            │\n",
       "└─────────────────────────────────────┴───────────────────────────────────────────────────────────────────────────────────────────────────────────────────────────────────────────────────────────────────────┘\n",
       "</pre>"
      ]
     },
     "execution_count": 35,
     "metadata": {},
     "output_type": "execute_result"
    }
   ],
   "source": [
    "orders ← ImportDataTable'../data/olist_orders_dataset.csv'\n",
    "Report orders"
   ]
  },
  {
   "cell_type": "code",
   "execution_count": 17,
   "id": "022dafb5-cc77-4a9e-9f67-230359b29314",
   "metadata": {},
   "outputs": [
    {
     "data": {
      "text/html": [
       "<pre class=\"language-APL\">rows, columns: 99441 8\n",
       "</pre>"
      ]
     },
     "execution_count": 17,
     "metadata": {},
     "output_type": "execute_result"
    },
    {
     "data": {
      "text/html": [
       "<pre class=\"language-APL\">Count of empty cells: 4908\n",
       "</pre>"
      ]
     },
     "execution_count": 17,
     "metadata": {},
     "output_type": "execute_result"
    },
    {
     "data": {
      "text/html": [
       "<pre class=\"language-APL\">Count of rows with empty cells: 2980\n",
       "</pre>"
      ]
     },
     "execution_count": 17,
     "metadata": {},
     "output_type": "execute_result"
    },
    {
     "data": {
      "text/html": [
       "<pre class=\"language-APL\">Columns with empty cells:\n",
       "</pre>"
      ]
     },
     "execution_count": 17,
     "metadata": {},
     "output_type": "execute_result"
    },
    {
     "data": {
      "text/html": [
       "<pre class=\"language-APL\">┌─────────────────┬────────────────────────────┬─────────────────────────────┐\n",
       "│order_approved_at│order_delivered_carrier_date│order_delivered_customer_date│\n",
       "└─────────────────┴────────────────────────────┴─────────────────────────────┘\n",
       "</pre>"
      ]
     },
     "execution_count": 17,
     "metadata": {},
     "output_type": "execute_result"
    }
   ],
   "source": [
    "'rows, columns:',⍴orders.data\n",
    "mt←(0∊⍴)¨orders.data   ⍝ Find empty cells\n",
    "'Count of empty cells:',+/,mt\n",
    "'Count of rows with empty cells:',+/∨/mt\n",
    "'Columns with empty cells:'\n",
    "orders.header⌿⍨∨⌿mt    "
   ]
  },
  {
   "cell_type": "code",
   "execution_count": 8,
   "id": "0900d576-d171-4086-9302-e784eeed5355",
   "metadata": {},
   "outputs": [
    {
     "data": {
      "text/html": [
       "<pre class=\"language-APL\">99441 5\n",
       "</pre>"
      ]
     },
     "execution_count": 8,
     "metadata": {},
     "output_type": "execute_result"
    }
   ],
   "source": []
  }
 ],
 "metadata": {
  "kernelspec": {
   "display_name": "Dyalog APL",
   "language": "apl",
   "name": "dyalog-kernel"
  },
  "language_info": {
   "file_extension": ".apl",
   "mimetype": "text/apl",
   "name": "APL"
  }
 },
 "nbformat": 4,
 "nbformat_minor": 5
}
