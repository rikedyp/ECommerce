{
 "cells": [
  {
   "cell_type": "markdown",
   "id": "29197a2d-c52f-42a6-8c19-e670c76e82e8",
   "metadata": {},
   "source": [
    "# APL: A data Processing pipeLine\n",
    "We will be using the [Brazilian E-Commerce Public Data Set by Olist](https://www.kaggle.com/datasets/olistbr/brazilian-ecommerce).\n",
    "\n",
    "We will demonstrate how to import the data, both from disk and using the Dyalog [HttpCommand](https://dyalog.github.io/HttpCommand) utility."
   ]
  },
  {
   "cell_type": "markdown",
   "id": "888e3639-48c7-4eb9-b794-f646e08f05d9",
   "metadata": {},
   "source": [
    "## Notes\n",
    "### Others' analysis for comparison\n",
    "- https://github.com/rajtulluri/Olist-business-analysis\n",
    "- https://github.com/cmhume/eCommerce_Business_Trends"
   ]
  },
  {
   "cell_type": "markdown",
   "id": "8bc7f459-4ce5-41bb-a74a-53e2bdfdb88f",
   "metadata": {},
   "source": [
    "## Ingest: importing, cleaning and tidying data\n",
    "First we will bring the data into the workspace directly from the internet using HttpCommand.\n",
    "\n",
    "TODO: later we will see how to deal with data which does not fit into the workspace."
   ]
  },
  {
   "cell_type": "code",
   "execution_count": 11,
   "id": "673fa960-dcbe-4b99-b2f1-dac80440db52",
   "metadata": {},
   "outputs": [
    {
     "data": {
      "text/html": [
       "<pre class=\"language-APL\">#.HttpCommand\n",
       "</pre>"
      ]
     },
     "execution_count": 11,
     "metadata": {},
     "output_type": "execute_result"
    }
   ],
   "source": [
    "]Get HttpCommand   ⍝ Load the HttpCommand utility"
   ]
  },
  {
   "cell_type": "code",
   "execution_count": null,
   "id": "e2b2446a-c37c-41aa-8451-ab27ad5f6ca5",
   "metadata": {},
   "outputs": [],
   "source": [
    "⍝∇ text ← {PROPS} Fetch url\n",
    "⍝:If 0=⎕NC'PROPS'\n",
    "⍝'PROPS'⎕NS⍬\n",
    "⍝h ← ⎕NEW HttpCommand\n",
    "⍝h.Method ← \n",
    "⍝h.Headers⍪←('Authorization') ('Basic:',PROPS.user,':',PROPS.password)\n",
    "⍝∇"
   ]
  },
  {
   "cell_type": "code",
   "execution_count": 12,
   "id": "c96e5d8b-244b-44cc-a880-57803c5cbb12",
   "metadata": {},
   "outputs": [],
   "source": [
    "∇ text ← Fetch url\n",
    "r ← HttpCommand.Get url\n",
    ":if 200≠r.HttpStatus\n",
    "r.HttpMessage ⎕SIGNAL r.HttpStatus\n",
    ":endif\n",
    "text ← r.Data\n",
    "∇"
   ]
  },
  {
   "cell_type": "code",
   "execution_count": 6,
   "id": "856429dd-ab9f-4d85-959f-85cd32bf4eaf",
   "metadata": {},
   "outputs": [
    {
     "name": "stderr",
     "output_type": "stream",
     "text": [
      "VALUE ERROR: Undefined name: Link\n",
      "      ⎕SE.Link.Create #'APLSource'   ⍝ Open the CIDER project in this direct\n",
      "      ory\n",
      "          ∧\n"
     ]
    }
   ],
   "source": [
    "txt ← Fetch "
   ]
  },
  {
   "cell_type": "code",
   "execution_count": 8,
   "id": "bf2fce5c-8695-44c6-a5cc-f41c3c1b28cb",
   "metadata": {},
   "outputs": [
    {
     "data": {
      "text/html": [
       "<pre class=\"language-APL\">Dyalog     \n",
       "Fonts      \n",
       "Jupyter    \n",
       "NumEd      \n",
       "Parser     \n",
       "SALT       \n",
       "SALTUtils  \n",
       "UCMD       \n",
       "UnicodeFile\n",
       "cbbot      \n",
       "cbtop      \n",
       "mb         \n",
       "popup      \n",
       "tip        \n",
       "</pre>"
      ]
     },
     "execution_count": 8,
     "metadata": {},
     "output_type": "execute_result"
    }
   ],
   "source": [
    "⎕SE.⎕nl⍳9"
   ]
  }
 ],
 "metadata": {
  "kernelspec": {
   "display_name": "Dyalog APL",
   "language": "apl",
   "name": "dyalog-kernel"
  },
  "language_info": {
   "file_extension": ".apl",
   "mimetype": "text/apl",
   "name": "APL"
  }
 },
 "nbformat": 4,
 "nbformat_minor": 5
}
